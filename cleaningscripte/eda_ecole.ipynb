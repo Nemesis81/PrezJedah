{
 "cells": [
  {
   "cell_type": "markdown",
   "metadata": {},
   "source": [
    "# EDA"
   ]
  },
  {
   "cell_type": "code",
   "execution_count": null,
   "metadata": {},
   "outputs": [],
   "source": [
    "pip install geopandas"
   ]
  },
  {
   "cell_type": "code",
   "execution_count": 5,
   "metadata": {},
   "outputs": [
    {
     "name": "stderr",
     "output_type": "stream",
     "text": [
      "c:\\Users\\Admin\\anaconda3\\Lib\\site-packages\\pandas\\core\\arrays\\masked.py:60: UserWarning: Pandas requires version '1.3.6' or newer of 'bottleneck' (version '1.3.5' currently installed).\n",
      "  from pandas.core import (\n"
     ]
    }
   ],
   "source": [
    "import pandas as pd\n",
    "import seaborn as sns\n",
    "import os\n",
    "import matplotlib.pyplot as plt\n",
    "import seaborn as sns\n",
    "from geopandas import GeoDataFrame\n",
    "import shapely.geometry as sgeom"
   ]
  },
  {
   "cell_type": "code",
   "execution_count": 6,
   "metadata": {},
   "outputs": [],
   "source": [
    "from dotenv import load_dotenv, find_dotenv\n",
    "\n",
    "load_dotenv(find_dotenv(\"./.env\"))\n",
    "path1 = os.environ.get(\"CLEAN_1622\")\n",
    "path2 = os.environ.get(\"CLOSED\")\n",
    "path3 = os.environ.get(\"GEOCOORD\")\n",
    "path4 = os.environ.get(\"DESTFILE_1622\")"
   ]
  },
  {
   "cell_type": "markdown",
   "metadata": {},
   "source": [
    "**Charger et verifier les donnees**"
   ]
  },
  {
   "cell_type": "code",
   "execution_count": 7,
   "metadata": {},
   "outputs": [
    {
     "data": {
      "text/html": [
       "<div>\n",
       "<style scoped>\n",
       "    .dataframe tbody tr th:only-of-type {\n",
       "        vertical-align: middle;\n",
       "    }\n",
       "\n",
       "    .dataframe tbody tr th {\n",
       "        vertical-align: top;\n",
       "    }\n",
       "\n",
       "    .dataframe thead th {\n",
       "        text-align: right;\n",
       "    }\n",
       "</style>\n",
       "<table border=\"1\" class=\"dataframe\">\n",
       "  <thead>\n",
       "    <tr style=\"text-align: right;\">\n",
       "      <th></th>\n",
       "      <th>rentree_scolaire</th>\n",
       "      <th>uai</th>\n",
       "      <th>nom_de_l_etablissement</th>\n",
       "      <th>secteur</th>\n",
       "      <th>ips</th>\n",
       "      <th>effectifs</th>\n",
       "    </tr>\n",
       "  </thead>\n",
       "  <tbody>\n",
       "    <tr>\n",
       "      <th>0</th>\n",
       "      <td>2019</td>\n",
       "      <td>0351231Y</td>\n",
       "      <td>ECOLE PRIMAIRE PRIVEE NOTRE DAME DU SACRE COEUR</td>\n",
       "      <td>privé sous contrat</td>\n",
       "      <td>98.2</td>\n",
       "      <td>NaN</td>\n",
       "    </tr>\n",
       "    <tr>\n",
       "      <th>1</th>\n",
       "      <td>2019</td>\n",
       "      <td>0351254Y</td>\n",
       "      <td>ECOLE PRIMAIRE PRIVEE ST JOSEPH</td>\n",
       "      <td>privé sous contrat</td>\n",
       "      <td>116.8</td>\n",
       "      <td>NaN</td>\n",
       "    </tr>\n",
       "    <tr>\n",
       "      <th>2</th>\n",
       "      <td>2019</td>\n",
       "      <td>0351300Y</td>\n",
       "      <td>ECOLE PRIMAIRE PRIVEE ST ANTOINE</td>\n",
       "      <td>privé sous contrat</td>\n",
       "      <td>104.1</td>\n",
       "      <td>NaN</td>\n",
       "    </tr>\n",
       "    <tr>\n",
       "      <th>3</th>\n",
       "      <td>2019</td>\n",
       "      <td>0351333J</td>\n",
       "      <td>ECOLE PRIMAIRE PRIVEE STE ANNE</td>\n",
       "      <td>privé sous contrat</td>\n",
       "      <td>107.3</td>\n",
       "      <td>NaN</td>\n",
       "    </tr>\n",
       "    <tr>\n",
       "      <th>4</th>\n",
       "      <td>2019</td>\n",
       "      <td>0351360N</td>\n",
       "      <td>ECOLE PRIMAIRE PRIVEE ST JEAN</td>\n",
       "      <td>privé sous contrat</td>\n",
       "      <td>117.4</td>\n",
       "      <td>NaN</td>\n",
       "    </tr>\n",
       "  </tbody>\n",
       "</table>\n",
       "</div>"
      ],
      "text/plain": [
       "   rentree_scolaire       uai  \\\n",
       "0              2019  0351231Y   \n",
       "1              2019  0351254Y   \n",
       "2              2019  0351300Y   \n",
       "3              2019  0351333J   \n",
       "4              2019  0351360N   \n",
       "\n",
       "                            nom_de_l_etablissement             secteur    ips  \\\n",
       "0  ECOLE PRIMAIRE PRIVEE NOTRE DAME DU SACRE COEUR  privé sous contrat   98.2   \n",
       "1                  ECOLE PRIMAIRE PRIVEE ST JOSEPH  privé sous contrat  116.8   \n",
       "2                 ECOLE PRIMAIRE PRIVEE ST ANTOINE  privé sous contrat  104.1   \n",
       "3                   ECOLE PRIMAIRE PRIVEE STE ANNE  privé sous contrat  107.3   \n",
       "4                    ECOLE PRIMAIRE PRIVEE ST JEAN  privé sous contrat  117.4   \n",
       "\n",
       "   effectifs  \n",
       "0        NaN  \n",
       "1        NaN  \n",
       "2        NaN  \n",
       "3        NaN  \n",
       "4        NaN  "
      ]
     },
     "execution_count": 7,
     "metadata": {},
     "output_type": "execute_result"
    }
   ],
   "source": [
    "df_1622 = pd.read_csv(path1)\n",
    "df_1622.head()"
   ]
  },
  {
   "cell_type": "code",
   "execution_count": 8,
   "metadata": {},
   "outputs": [
    {
     "name": "stdout",
     "output_type": "stream",
     "text": [
      "rentree_scolaire               0\n",
      "uai                            0\n",
      "nom_de_l_etablissement        11\n",
      "secteur                        0\n",
      "ips                            0\n",
      "effectifs                 182082\n",
      "dtype: int64\n"
     ]
    }
   ],
   "source": [
    "print(df_1622.isnull().sum())"
   ]
  },
  {
   "cell_type": "code",
   "execution_count": 9,
   "metadata": {},
   "outputs": [
    {
     "data": {
      "image/png": "[encoded data removed]",
      "text/plain": [
       "<Figure size 640x480 with 2 Axes>"
      ]
     },
     "metadata": {},
     "output_type": "display_data"
    }
   ],
   "source": [
    "sns.heatmap(df_1622.isnull(), cbar=True)\n",
    "plt.show()"
   ]
  },
  {
   "cell_type": "markdown",
   "metadata": {},
   "source": [
    "*Les effectifs sont presents a partir de 2022 donc a prendre en cmpte lors des analyses*"
   ]
  },
  {
   "cell_type": "markdown",
   "metadata": {},
   "source": [
    "*Nom d'etablissements manquants en avant 2022*"
   ]
  },
  {
   "cell_type": "code",
   "execution_count": 10,
   "metadata": {},
   "outputs": [
    {
     "data": {
      "text/html": [
       "<div>\n",
       "<style scoped>\n",
       "    .dataframe tbody tr th:only-of-type {\n",
       "        vertical-align: middle;\n",
       "    }\n",
       "\n",
       "    .dataframe tbody tr th {\n",
       "        vertical-align: top;\n",
       "    }\n",
       "\n",
       "    .dataframe thead th {\n",
       "        text-align: right;\n",
       "    }\n",
       "</style>\n",
       "<table border=\"1\" class=\"dataframe\">\n",
       "  <thead>\n",
       "    <tr style=\"text-align: right;\">\n",
       "      <th></th>\n",
       "      <th>rentree_scolaire</th>\n",
       "      <th>ips</th>\n",
       "      <th>effectifs</th>\n",
       "    </tr>\n",
       "  </thead>\n",
       "  <tbody>\n",
       "    <tr>\n",
       "      <th>count</th>\n",
       "      <td>242196.000000</td>\n",
       "      <td>242196.000000</td>\n",
       "      <td>60114.000000</td>\n",
       "    </tr>\n",
       "    <tr>\n",
       "      <th>mean</th>\n",
       "      <td>2019.495049</td>\n",
       "      <td>103.125163</td>\n",
       "      <td>127.084739</td>\n",
       "    </tr>\n",
       "    <tr>\n",
       "      <th>std</th>\n",
       "      <td>2.287713</td>\n",
       "      <td>16.050598</td>\n",
       "      <td>84.046634</td>\n",
       "    </tr>\n",
       "    <tr>\n",
       "      <th>min</th>\n",
       "      <td>2016.000000</td>\n",
       "      <td>35.800000</td>\n",
       "      <td>25.000000</td>\n",
       "    </tr>\n",
       "    <tr>\n",
       "      <th>25%</th>\n",
       "      <td>2018.000000</td>\n",
       "      <td>93.400000</td>\n",
       "      <td>62.000000</td>\n",
       "    </tr>\n",
       "    <tr>\n",
       "      <th>50%</th>\n",
       "      <td>2019.000000</td>\n",
       "      <td>103.200000</td>\n",
       "      <td>107.000000</td>\n",
       "    </tr>\n",
       "    <tr>\n",
       "      <th>75%</th>\n",
       "      <td>2021.000000</td>\n",
       "      <td>113.300000</td>\n",
       "      <td>170.000000</td>\n",
       "    </tr>\n",
       "    <tr>\n",
       "      <th>max</th>\n",
       "      <td>2023.000000</td>\n",
       "      <td>161.900000</td>\n",
       "      <td>951.000000</td>\n",
       "    </tr>\n",
       "  </tbody>\n",
       "</table>\n",
       "</div>"
      ],
      "text/plain": [
       "       rentree_scolaire            ips     effectifs\n",
       "count     242196.000000  242196.000000  60114.000000\n",
       "mean        2019.495049     103.125163    127.084739\n",
       "std            2.287713      16.050598     84.046634\n",
       "min         2016.000000      35.800000     25.000000\n",
       "25%         2018.000000      93.400000     62.000000\n",
       "50%         2019.000000     103.200000    107.000000\n",
       "75%         2021.000000     113.300000    170.000000\n",
       "max         2023.000000     161.900000    951.000000"
      ]
     },
     "execution_count": 10,
     "metadata": {},
     "output_type": "execute_result"
    }
   ],
   "source": [
    "df_1622.describe()"
   ]
  },
  {
   "cell_type": "code",
   "execution_count": 11,
   "metadata": {},
   "outputs": [
    {
     "data": {
      "text/html": [
       "<div>\n",
       "<style scoped>\n",
       "    .dataframe tbody tr th:only-of-type {\n",
       "        vertical-align: middle;\n",
       "    }\n",
       "\n",
       "    .dataframe tbody tr th {\n",
       "        vertical-align: top;\n",
       "    }\n",
       "\n",
       "    .dataframe thead th {\n",
       "        text-align: right;\n",
       "    }\n",
       "</style>\n",
       "<table border=\"1\" class=\"dataframe\">\n",
       "  <thead>\n",
       "    <tr style=\"text-align: right;\">\n",
       "      <th></th>\n",
       "      <th>rentree_scolaire</th>\n",
       "      <th>uai</th>\n",
       "      <th>nom_de_l_etablissement</th>\n",
       "      <th>secteur</th>\n",
       "      <th>ips</th>\n",
       "      <th>effectifs</th>\n",
       "    </tr>\n",
       "  </thead>\n",
       "  <tbody>\n",
       "    <tr>\n",
       "      <th>count</th>\n",
       "      <td>242196.000000</td>\n",
       "      <td>242196</td>\n",
       "      <td>242185</td>\n",
       "      <td>242196</td>\n",
       "      <td>242196.000000</td>\n",
       "      <td>60114.000000</td>\n",
       "    </tr>\n",
       "    <tr>\n",
       "      <th>unique</th>\n",
       "      <td>NaN</td>\n",
       "      <td>31786</td>\n",
       "      <td>21671</td>\n",
       "      <td>2</td>\n",
       "      <td>NaN</td>\n",
       "      <td>NaN</td>\n",
       "    </tr>\n",
       "    <tr>\n",
       "      <th>top</th>\n",
       "      <td>NaN</td>\n",
       "      <td>0351231Y</td>\n",
       "      <td>ECOLE PRIMAIRE</td>\n",
       "      <td>public</td>\n",
       "      <td>NaN</td>\n",
       "      <td>NaN</td>\n",
       "    </tr>\n",
       "    <tr>\n",
       "      <th>freq</th>\n",
       "      <td>NaN</td>\n",
       "      <td>8</td>\n",
       "      <td>36236</td>\n",
       "      <td>207853</td>\n",
       "      <td>NaN</td>\n",
       "      <td>NaN</td>\n",
       "    </tr>\n",
       "    <tr>\n",
       "      <th>mean</th>\n",
       "      <td>2019.495049</td>\n",
       "      <td>NaN</td>\n",
       "      <td>NaN</td>\n",
       "      <td>NaN</td>\n",
       "      <td>103.125163</td>\n",
       "      <td>127.084739</td>\n",
       "    </tr>\n",
       "    <tr>\n",
       "      <th>std</th>\n",
       "      <td>2.287713</td>\n",
       "      <td>NaN</td>\n",
       "      <td>NaN</td>\n",
       "      <td>NaN</td>\n",
       "      <td>16.050598</td>\n",
       "      <td>84.046634</td>\n",
       "    </tr>\n",
       "    <tr>\n",
       "      <th>min</th>\n",
       "      <td>2016.000000</td>\n",
       "      <td>NaN</td>\n",
       "      <td>NaN</td>\n",
       "      <td>NaN</td>\n",
       "      <td>35.800000</td>\n",
       "      <td>25.000000</td>\n",
       "    </tr>\n",
       "    <tr>\n",
       "      <th>25%</th>\n",
       "      <td>2018.000000</td>\n",
       "      <td>NaN</td>\n",
       "      <td>NaN</td>\n",
       "      <td>NaN</td>\n",
       "      <td>93.400000</td>\n",
       "      <td>62.000000</td>\n",
       "    </tr>\n",
       "    <tr>\n",
       "      <th>50%</th>\n",
       "      <td>2019.000000</td>\n",
       "      <td>NaN</td>\n",
       "      <td>NaN</td>\n",
       "      <td>NaN</td>\n",
       "      <td>103.200000</td>\n",
       "      <td>107.000000</td>\n",
       "    </tr>\n",
       "    <tr>\n",
       "      <th>75%</th>\n",
       "      <td>2021.000000</td>\n",
       "      <td>NaN</td>\n",
       "      <td>NaN</td>\n",
       "      <td>NaN</td>\n",
       "      <td>113.300000</td>\n",
       "      <td>170.000000</td>\n",
       "    </tr>\n",
       "    <tr>\n",
       "      <th>max</th>\n",
       "      <td>2023.000000</td>\n",
       "      <td>NaN</td>\n",
       "      <td>NaN</td>\n",
       "      <td>NaN</td>\n",
       "      <td>161.900000</td>\n",
       "      <td>951.000000</td>\n",
       "    </tr>\n",
       "  </tbody>\n",
       "</table>\n",
       "</div>"
      ],
      "text/plain": [
       "        rentree_scolaire       uai nom_de_l_etablissement secteur  \\\n",
       "count      242196.000000    242196                 242185  242196   \n",
       "unique               NaN     31786                  21671       2   \n",
       "top                  NaN  0351231Y         ECOLE PRIMAIRE  public   \n",
       "freq                 NaN         8                  36236  207853   \n",
       "mean         2019.495049       NaN                    NaN     NaN   \n",
       "std             2.287713       NaN                    NaN     NaN   \n",
       "min          2016.000000       NaN                    NaN     NaN   \n",
       "25%          2018.000000       NaN                    NaN     NaN   \n",
       "50%          2019.000000       NaN                    NaN     NaN   \n",
       "75%          2021.000000       NaN                    NaN     NaN   \n",
       "max          2023.000000       NaN                    NaN     NaN   \n",
       "\n",
       "                  ips     effectifs  \n",
       "count   242196.000000  60114.000000  \n",
       "unique            NaN           NaN  \n",
       "top               NaN           NaN  \n",
       "freq              NaN           NaN  \n",
       "mean       103.125163    127.084739  \n",
       "std         16.050598     84.046634  \n",
       "min         35.800000     25.000000  \n",
       "25%         93.400000     62.000000  \n",
       "50%        103.200000    107.000000  \n",
       "75%        113.300000    170.000000  \n",
       "max        161.900000    951.000000  "
      ]
     },
     "execution_count": 11,
     "metadata": {},
     "output_type": "execute_result"
    }
   ],
   "source": [
    "(df_1622.describe(include='all'))"
   ]
  },
  {
   "cell_type": "markdown",
   "metadata": {},
   "source": [
    "## Visualiser"
   ]
  },
  {
   "cell_type": "code",
   "execution_count": 12,
   "metadata": {},
   "outputs": [
    {
     "data": {
      "text/plain": [
       "(array([1.5000e+01, 7.2300e+02, 1.0051e+04, 2.3038e+04, 5.8001e+04,\n",
       "        8.0455e+04, 4.7346e+04, 1.7281e+04, 4.9340e+03, 3.5200e+02]),\n",
       " array([ 35.8 ,  48.41,  61.02,  73.63,  86.24,  98.85, 111.46, 124.07,\n",
       "        136.68, 149.29, 161.9 ]),\n",
       " <BarContainer object of 10 artists>)"
      ]
     },
     "execution_count": 12,
     "metadata": {},
     "output_type": "execute_result"
    },
    {
     "data": {
      "image/png": "[encoded data removed]",
      "text/plain": [
       "<Figure size 640x480 with 1 Axes>"
      ]
     },
     "metadata": {},
     "output_type": "display_data"
    }
   ],
   "source": [
    "# Visualiser les valeurs numeriques 1 - HISTOGRAME\n",
    "plt.hist(df_1622['ips'])"
   ]
  },
  {
   "cell_type": "code",
   "execution_count": 13,
   "metadata": {},
   "outputs": [
    {
     "data": {
      "text/plain": [
       "<Axes: xlabel='effectifs'>"
      ]
     },
     "execution_count": 13,
     "metadata": {},
     "output_type": "execute_result"
    },
    {
     "data": {
      "image/png": "[encoded data removed]",
      "text/plain": [
       "<Figure size 640x480 with 1 Axes>"
      ]
     },
     "metadata": {},
     "output_type": "display_data"
    }
   ],
   "source": [
    "# Visualiser les valeurs numeriques 2 - BOXPLOT\n",
    "sns.boxplot(x='effectifs', data=df_1622)"
   ]
  },
  {
   "cell_type": "code",
   "execution_count": 14,
   "metadata": {},
   "outputs": [
    {
     "name": "stderr",
     "output_type": "stream",
     "text": [
      "c:\\Users\\Admin\\anaconda3\\Lib\\site-packages\\seaborn\\_oldcore.py:1119: FutureWarning: use_inf_as_na option is deprecated and will be removed in a future version. Convert inf values to NaN before operating instead.\n",
      "  with pd.option_context('mode.use_inf_as_na', True):\n"
     ]
    },
    {
     "data": {
      "text/plain": [
       "<Axes: xlabel='ips', ylabel='Density'>"
      ]
     },
     "execution_count": 14,
     "metadata": {},
     "output_type": "execute_result"
    },
    {
     "data": {
      "image/png": "[encoded data removed]",
      "text/plain": [
       "<Figure size 640x480 with 1 Axes>"
      ]
     },
     "metadata": {},
     "output_type": "display_data"
    }
   ],
   "source": [
    "# Visualiser les valeurs numeriques 3 - DENSITY PLOT densite de la distribution\n",
    "sns.kdeplot(df_1622['ips'])"
   ]
  },
  {
   "cell_type": "code",
   "execution_count": 15,
   "metadata": {},
   "outputs": [
    {
     "data": {
      "text/plain": [
       "<Axes: xlabel='secteur', ylabel='ips'>"
      ]
     },
     "execution_count": 15,
     "metadata": {},
     "output_type": "execute_result"
    },
    {
     "data": {
      "image/png": "[encoded data removed]",
      "text/plain": [
       "<Figure size 640x480 with 1 Axes>"
      ]
     },
     "metadata": {},
     "output_type": "display_data"
    }
   ],
   "source": [
    "# Visualiser les valeurs categorielles 1 - BAR PLOT - exe colonnes secteur\n",
    "sns.barplot(x='secteur', y='ips', data=df_1622)"
   ]
  },
  {
   "cell_type": "code",
   "execution_count": 29,
   "metadata": {},
   "outputs": [
    {
     "data": {
      "text/plain": [
       "([<matplotlib.patches.Wedge at 0x1ff46aee050>,\n",
       "  <matplotlib.patches.Wedge at 0x1ff3fe089d0>],\n",
       " [Text(-0.992647777068958, 0.4739729851795949, 'privé sous contrat'),\n",
       "  Text(0.9926477770689579, -0.473972985179595, 'public')])"
      ]
     },
     "execution_count": 29,
     "metadata": {},
     "output_type": "execute_result"
    },
    {
     "data": {
      "image/png": "[encoded data removed]",
      "text/plain": [
       "<Figure size 640x480 with 1 Axes>"
      ]
     },
     "metadata": {},
     "output_type": "display_data"
    }
   ],
   "source": [
    "# Visualiser les valeurs categorielles 2 - PIE CHART -visualiser la proportion de chaque categorie\n",
    "plt.pie(df_1622['secteur'].value_counts(), labels=df_1622['secteur'].unique())"
   ]
  },
  {
   "cell_type": "code",
   "execution_count": null,
   "metadata": {},
   "outputs": [],
   "source": [
    "# Explorer les relations -  -"
   ]
  },
  {
   "cell_type": "code",
   "execution_count": null,
   "metadata": {},
   "outputs": [],
   "source": [
    "# Explorer les relations -  -"
   ]
  },
  {
   "cell_type": "code",
   "execution_count": null,
   "metadata": {},
   "outputs": [],
   "source": [
    "# Analyse spaciale avec Geopandas -  -"
   ]
  },
  {
   "cell_type": "code",
   "execution_count": null,
   "metadata": {},
   "outputs": [],
   "source": [
    "# Tendances au long des annees"
   ]
  },
  {
   "cell_type": "code",
   "execution_count": null,
   "metadata": {},
   "outputs": [],
   "source": [
    "# Analyse de subgroupes - ex departement, secteur ..."
   ]
  },
  {
   "cell_type": "code",
   "execution_count": null,
   "metadata": {},
   "outputs": [],
   "source": [
    "# "
   ]
  },
  {
   "cell_type": "markdown",
   "metadata": {},
   "source": [
    "## Statistiques descriptives"
   ]
  },
  {
   "cell_type": "code",
   "execution_count": null,
   "metadata": {},
   "outputs": [],
   "source": []
  },
  {
   "cell_type": "markdown",
   "metadata": {},
   "source": [
    "## Croiser avec etablissements fermes et geolocaliser les etablissements"
   ]
  },
  {
   "cell_type": "markdown",
   "metadata": {},
   "source": [
    "*Note a propos des etablissements fermes : \"les fermetures d'établissements sont des actes définitifs liés à l'immatriculation de ces établissements (il s'agit donc d'une action administrative). Il peut y avoir fermeture administrative d'une école sans que cette école ne cesse ces activités, c'est le cas par exemple de la fusion d'une école maternelle et d'une école élémentaire pour créer une école primaire : une des ancienne écoles est fermée (l'école restante est alors transformée) ou bien les deux écoles sont fermées et une troisième est créée.\" source: https://www.data.gouv.fr/fr/datasets/etablissements-fermes/#/discussions*"
   ]
  },
  {
   "cell_type": "code",
   "execution_count": 17,
   "metadata": {},
   "outputs": [
    {
     "data": {
      "text/html": [
       "<div>\n",
       "<style scoped>\n",
       "    .dataframe tbody tr th:only-of-type {\n",
       "        vertical-align: middle;\n",
       "    }\n",
       "\n",
       "    .dataframe tbody tr th {\n",
       "        vertical-align: top;\n",
       "    }\n",
       "\n",
       "    .dataframe thead th {\n",
       "        text-align: right;\n",
       "    }\n",
       "</style>\n",
       "<table border=\"1\" class=\"dataframe\">\n",
       "  <thead>\n",
       "    <tr style=\"text-align: right;\">\n",
       "      <th></th>\n",
       "      <th>numero_uai</th>\n",
       "      <th>appellation_officielle</th>\n",
       "      <th>denomination_principale</th>\n",
       "      <th>patronyme_uai</th>\n",
       "      <th>secteur_public_prive_libe</th>\n",
       "      <th>date_ouverture</th>\n",
       "      <th>date_fermeture</th>\n",
       "      <th>adresse_uai</th>\n",
       "      <th>lieu_dit_uai</th>\n",
       "      <th>boite_postale_uai</th>\n",
       "      <th>...</th>\n",
       "      <th>libelle_departement</th>\n",
       "      <th>libelle_region</th>\n",
       "      <th>libelle_academie</th>\n",
       "      <th>libelle_commune</th>\n",
       "      <th>restauration</th>\n",
       "      <th>herbergement</th>\n",
       "      <th>ecole_maternelle</th>\n",
       "      <th>ecole_elementaire</th>\n",
       "      <th>ulis</th>\n",
       "      <th>greta</th>\n",
       "    </tr>\n",
       "  </thead>\n",
       "  <tbody>\n",
       "    <tr>\n",
       "      <th>0</th>\n",
       "      <td>0500359U</td>\n",
       "      <td>Ecole primaire</td>\n",
       "      <td>ECOLE PRIMAIRE PUBLIQUE</td>\n",
       "      <td>NaN</td>\n",
       "      <td>Public</td>\n",
       "      <td>1966-11-23</td>\n",
       "      <td>1988-08-31</td>\n",
       "      <td>4 RUE SAINT-MAUR</td>\n",
       "      <td>NaN</td>\n",
       "      <td>NaN</td>\n",
       "      <td>...</td>\n",
       "      <td>Manche</td>\n",
       "      <td>Normandie</td>\n",
       "      <td>Normandie</td>\n",
       "      <td>Coutances</td>\n",
       "      <td>1</td>\n",
       "      <td>0</td>\n",
       "      <td>1.0</td>\n",
       "      <td>1.0</td>\n",
       "      <td>0</td>\n",
       "      <td>0</td>\n",
       "    </tr>\n",
       "    <tr>\n",
       "      <th>1</th>\n",
       "      <td>0500370F</td>\n",
       "      <td>Ecole primaire</td>\n",
       "      <td>ECOLE PRIMAIRE PUBLIQUE</td>\n",
       "      <td>NaN</td>\n",
       "      <td>Public</td>\n",
       "      <td>1966-11-23</td>\n",
       "      <td>1986-08-31</td>\n",
       "      <td>LE MESNIL SAINT-JEAN</td>\n",
       "      <td>ST PIERRE DE COUTANCES</td>\n",
       "      <td>NaN</td>\n",
       "      <td>...</td>\n",
       "      <td>Manche</td>\n",
       "      <td>Normandie</td>\n",
       "      <td>Normandie</td>\n",
       "      <td>Saint-Pierre-de-Coutances</td>\n",
       "      <td>0</td>\n",
       "      <td>0</td>\n",
       "      <td>1.0</td>\n",
       "      <td>1.0</td>\n",
       "      <td>0</td>\n",
       "      <td>0</td>\n",
       "    </tr>\n",
       "    <tr>\n",
       "      <th>2</th>\n",
       "      <td>0500383V</td>\n",
       "      <td>Ecole primaire</td>\n",
       "      <td>ECOLE PRIMAIRE PUBLIQUE</td>\n",
       "      <td>NaN</td>\n",
       "      <td>Public</td>\n",
       "      <td>1966-11-23</td>\n",
       "      <td>1978-08-31</td>\n",
       "      <td>NaN</td>\n",
       "      <td>MARCILLY</td>\n",
       "      <td>NaN</td>\n",
       "      <td>...</td>\n",
       "      <td>Manche</td>\n",
       "      <td>Normandie</td>\n",
       "      <td>Normandie</td>\n",
       "      <td>Marcilly</td>\n",
       "      <td>1</td>\n",
       "      <td>0</td>\n",
       "      <td>1.0</td>\n",
       "      <td>1.0</td>\n",
       "      <td>0</td>\n",
       "      <td>0</td>\n",
       "    </tr>\n",
       "    <tr>\n",
       "      <th>3</th>\n",
       "      <td>0500421L</td>\n",
       "      <td>Ecole primaire</td>\n",
       "      <td>ECOLE PRIMAIRE PUBLIQUE</td>\n",
       "      <td>NaN</td>\n",
       "      <td>Public</td>\n",
       "      <td>1966-11-24</td>\n",
       "      <td>1981-12-31</td>\n",
       "      <td>RUE GUY MOQUET</td>\n",
       "      <td>NaN</td>\n",
       "      <td>NaN</td>\n",
       "      <td>...</td>\n",
       "      <td>Manche</td>\n",
       "      <td>Normandie</td>\n",
       "      <td>Normandie</td>\n",
       "      <td>Donville-les-Bains</td>\n",
       "      <td>1</td>\n",
       "      <td>0</td>\n",
       "      <td>1.0</td>\n",
       "      <td>1.0</td>\n",
       "      <td>0</td>\n",
       "      <td>0</td>\n",
       "    </tr>\n",
       "    <tr>\n",
       "      <th>4</th>\n",
       "      <td>0500432Y</td>\n",
       "      <td>Ecole primaire Ferdinand Buisson</td>\n",
       "      <td>ECOLE PRIMAIRE PUBLIQUE</td>\n",
       "      <td>FERDINAND BUISSON</td>\n",
       "      <td>Public</td>\n",
       "      <td>1966-11-24</td>\n",
       "      <td>1995-08-31</td>\n",
       "      <td>2 RUE CLEMENT DESMAISONS</td>\n",
       "      <td>NaN</td>\n",
       "      <td>NaN</td>\n",
       "      <td>...</td>\n",
       "      <td>Manche</td>\n",
       "      <td>Normandie</td>\n",
       "      <td>Normandie</td>\n",
       "      <td>Granville</td>\n",
       "      <td>1</td>\n",
       "      <td>0</td>\n",
       "      <td>1.0</td>\n",
       "      <td>1.0</td>\n",
       "      <td>0</td>\n",
       "      <td>0</td>\n",
       "    </tr>\n",
       "  </tbody>\n",
       "</table>\n",
       "<p>5 rows × 36 columns</p>\n",
       "</div>"
      ],
      "text/plain": [
       "  numero_uai            appellation_officielle  denomination_principale  \\\n",
       "0   0500359U                    Ecole primaire  ECOLE PRIMAIRE PUBLIQUE   \n",
       "1   0500370F                    Ecole primaire  ECOLE PRIMAIRE PUBLIQUE   \n",
       "2   0500383V                    Ecole primaire  ECOLE PRIMAIRE PUBLIQUE   \n",
       "3   0500421L                    Ecole primaire  ECOLE PRIMAIRE PUBLIQUE   \n",
       "4   0500432Y  Ecole primaire Ferdinand Buisson  ECOLE PRIMAIRE PUBLIQUE   \n",
       "\n",
       "       patronyme_uai secteur_public_prive_libe date_ouverture date_fermeture  \\\n",
       "0                NaN                    Public     1966-11-23     1988-08-31   \n",
       "1                NaN                    Public     1966-11-23     1986-08-31   \n",
       "2                NaN                    Public     1966-11-23     1978-08-31   \n",
       "3                NaN                    Public     1966-11-24     1981-12-31   \n",
       "4  FERDINAND BUISSON                    Public     1966-11-24     1995-08-31   \n",
       "\n",
       "                adresse_uai            lieu_dit_uai boite_postale_uai  ...  \\\n",
       "0          4 RUE SAINT-MAUR                     NaN               NaN  ...   \n",
       "1      LE MESNIL SAINT-JEAN  ST PIERRE DE COUTANCES               NaN  ...   \n",
       "2                       NaN                MARCILLY               NaN  ...   \n",
       "3            RUE GUY MOQUET                     NaN               NaN  ...   \n",
       "4  2 RUE CLEMENT DESMAISONS                     NaN               NaN  ...   \n",
       "\n",
       "   libelle_departement libelle_region  libelle_academie  \\\n",
       "0               Manche      Normandie         Normandie   \n",
       "1               Manche      Normandie         Normandie   \n",
       "2               Manche      Normandie         Normandie   \n",
       "3               Manche      Normandie         Normandie   \n",
       "4               Manche      Normandie         Normandie   \n",
       "\n",
       "             libelle_commune restauration  herbergement  ecole_maternelle  \\\n",
       "0                  Coutances            1             0               1.0   \n",
       "1  Saint-Pierre-de-Coutances            0             0               1.0   \n",
       "2                   Marcilly            1             0               1.0   \n",
       "3         Donville-les-Bains            1             0               1.0   \n",
       "4                  Granville            1             0               1.0   \n",
       "\n",
       "  ecole_elementaire ulis greta  \n",
       "0               1.0    0     0  \n",
       "1               1.0    0     0  \n",
       "2               1.0    0     0  \n",
       "3               1.0    0     0  \n",
       "4               1.0    0     0  \n",
       "\n",
       "[5 rows x 36 columns]"
      ]
     },
     "execution_count": 17,
     "metadata": {},
     "output_type": "execute_result"
    }
   ],
   "source": [
    "df_closed= pd.read_csv(path2, sep=\";\")\n",
    "df_closed.head()"
   ]
  },
  {
   "cell_type": "code",
   "execution_count": null,
   "metadata": {},
   "outputs": [
    {
     "name": "stdout",
     "output_type": "stream",
     "text": [
      "       numero_uai appellation_officielle  denomination_principale  \\\n",
      "count       42288                  42285                    42279   \n",
      "unique      42288                  17402                      324   \n",
      "top      0500359U         Ecole primaire  ECOLE PRIMAIRE PUBLIQUE   \n",
      "freq            1                  10344                    19499   \n",
      "mean          NaN                    NaN                      NaN   \n",
      "std           NaN                    NaN                      NaN   \n",
      "min           NaN                    NaN                      NaN   \n",
      "25%           NaN                    NaN                      NaN   \n",
      "50%           NaN                    NaN                      NaN   \n",
      "75%           NaN                    NaN                      NaN   \n",
      "max           NaN                    NaN                      NaN   \n",
      "\n",
      "       patronyme_uai secteur_public_prive_libe date_ouverture date_fermeture  \\\n",
      "count          27640                     42288          42288          42288   \n",
      "unique         16544                         2           2953           1281   \n",
      "top      JULES FERRY                    Public     1965-05-01     1992-08-31   \n",
      "freq             168                     35261           1092           1283   \n",
      "mean             NaN                       NaN            NaN            NaN   \n",
      "std              NaN                       NaN            NaN            NaN   \n",
      "min              NaN                       NaN            NaN            NaN   \n",
      "25%              NaN                       NaN            NaN            NaN   \n",
      "50%              NaN                       NaN            NaN            NaN   \n",
      "75%              NaN                       NaN            NaN            NaN   \n",
      "max              NaN                       NaN            NaN            NaN   \n",
      "\n",
      "           adresse_uai lieu_dit_uai boite_postale_uai  ...  \\\n",
      "count            31612        13727              1271  ...   \n",
      "unique           23883         6908               606  ...   \n",
      "top     RUE DES ECOLES      LEBOURG                 2  ...   \n",
      "freq               332         4265                15  ...   \n",
      "mean               NaN          NaN               NaN  ...   \n",
      "std                NaN          NaN               NaN  ...   \n",
      "min                NaN          NaN               NaN  ...   \n",
      "25%                NaN          NaN               NaN  ...   \n",
      "50%                NaN          NaN               NaN  ...   \n",
      "75%                NaN          NaN               NaN  ...   \n",
      "max                NaN          NaN               NaN  ...   \n",
      "\n",
      "        libelle_departement libelle_region  libelle_academie  libelle_commune  \\\n",
      "count                 42288          42288             42288            42288   \n",
      "unique                  108             19                34            17542   \n",
      "top                 Moselle      Grand Est         Normandie    Saint-Etienne   \n",
      "freq                   1456           6278              3406              206   \n",
      "mean                    NaN            NaN               NaN              NaN   \n",
      "std                     NaN            NaN               NaN              NaN   \n",
      "min                     NaN            NaN               NaN              NaN   \n",
      "25%                     NaN            NaN               NaN              NaN   \n",
      "50%                     NaN            NaN               NaN              NaN   \n",
      "75%                     NaN            NaN               NaN              NaN   \n",
      "max                     NaN            NaN               NaN              NaN   \n",
      "\n",
      "        restauration  herbergement  ecole_maternelle ecole_elementaire  \\\n",
      "count   42288.000000  42288.000000      36760.000000      36760.000000   \n",
      "unique           NaN           NaN               NaN               NaN   \n",
      "top              NaN           NaN               NaN               NaN   \n",
      "freq             NaN           NaN               NaN               NaN   \n",
      "mean        0.570729      0.039846          0.940152          0.738112   \n",
      "std         0.494978      0.195599          0.237208          0.439668   \n",
      "min         0.000000      0.000000          0.000000          0.000000   \n",
      "25%         0.000000      0.000000          1.000000          0.000000   \n",
      "50%         1.000000      0.000000          1.000000          1.000000   \n",
      "75%         1.000000      0.000000          1.000000          1.000000   \n",
      "max         1.000000      1.000000          1.000000          1.000000   \n",
      "\n",
      "                ulis         greta  \n",
      "count   42288.000000  42288.000000  \n",
      "unique           NaN           NaN  \n",
      "top              NaN           NaN  \n",
      "freq             NaN           NaN  \n",
      "mean        0.003405      0.006976  \n",
      "std         0.058256      0.083231  \n",
      "min         0.000000      0.000000  \n",
      "25%         0.000000      0.000000  \n",
      "50%         0.000000      0.000000  \n",
      "75%         0.000000      0.000000  \n",
      "max         1.000000      1.000000  \n",
      "\n",
      "[11 rows x 36 columns]\n"
     ]
    }
   ],
   "source": [
    "print(df_closed.describe(include='all'))"
   ]
  },
  {
   "cell_type": "code",
   "execution_count": null,
   "metadata": {},
   "outputs": [
    {
     "name": "stdout",
     "output_type": "stream",
     "text": [
      "<class 'pandas.core.frame.DataFrame'>\n",
      "RangeIndex: 42288 entries, 0 to 42287\n",
      "Data columns (total 36 columns):\n",
      " #   Column                     Non-Null Count  Dtype  \n",
      "---  ------                     --------------  -----  \n",
      " 0   numero_uai                 42288 non-null  object \n",
      " 1   appellation_officielle     42285 non-null  object \n",
      " 2   denomination_principale    42279 non-null  object \n",
      " 3   patronyme_uai              27640 non-null  object \n",
      " 4   secteur_public_prive_libe  42288 non-null  object \n",
      " 5   date_ouverture             42288 non-null  object \n",
      " 6   date_fermeture             42288 non-null  object \n",
      " 7   adresse_uai                31612 non-null  object \n",
      " 8   lieu_dit_uai               13727 non-null  object \n",
      " 9   boite_postale_uai          1271 non-null   object \n",
      " 10  code_postal_uai            42288 non-null  int64  \n",
      " 11  localite_acheminement_uai  41356 non-null  object \n",
      " 12  coordonnee_x               41810 non-null  float64\n",
      " 13  coordonnee_y               41810 non-null  float64\n",
      " 14  epsg                       41961 non-null  object \n",
      " 15  latitude                   41810 non-null  float64\n",
      " 16  longitude                  41810 non-null  float64\n",
      " 17  position                   41810 non-null  object \n",
      " 18  appariement                41810 non-null  object \n",
      " 19  localisation               41810 non-null  object \n",
      " 20  nature_uai                 42288 non-null  int64  \n",
      " 21  nature_uai_libe            42288 non-null  object \n",
      " 22  code_departement           42288 non-null  object \n",
      " 23  code_region                42288 non-null  int64  \n",
      " 24  code_academie              42288 non-null  int64  \n",
      " 25  code_commune               42288 non-null  object \n",
      " 26  libelle_departement        42288 non-null  object \n",
      " 27  libelle_region             42288 non-null  object \n",
      " 28  libelle_academie           42288 non-null  object \n",
      " 29  libelle_commune            42288 non-null  object \n",
      " 30  restauration               42288 non-null  int64  \n",
      " 31  herbergement               42288 non-null  int64  \n",
      " 32  ecole_maternelle           36760 non-null  float64\n",
      " 33  ecole_elementaire          36760 non-null  float64\n",
      " 34  ulis                       42288 non-null  int64  \n",
      " 35  greta                      42288 non-null  int64  \n",
      "dtypes: float64(6), int64(8), object(22)\n",
      "memory usage: 11.6+ MB\n"
     ]
    }
   ],
   "source": [
    "df_closed.info()"
   ]
  },
  {
   "cell_type": "code",
   "execution_count": null,
   "metadata": {},
   "outputs": [
    {
     "name": "stdout",
     "output_type": "stream",
     "text": [
      "numero_uai                       0\n",
      "appellation_officielle           3\n",
      "denomination_principale          9\n",
      "patronyme_uai                14648\n",
      "secteur_public_prive_libe        0\n",
      "date_ouverture                   0\n",
      "date_fermeture                   0\n",
      "adresse_uai                  10676\n",
      "lieu_dit_uai                 28561\n",
      "boite_postale_uai            41017\n",
      "code_postal_uai                  0\n",
      "localite_acheminement_uai      932\n",
      "coordonnee_x                   478\n",
      "coordonnee_y                   478\n",
      "epsg                           327\n",
      "latitude                       478\n",
      "longitude                      478\n",
      "position                       478\n",
      "appariement                    478\n",
      "localisation                   478\n",
      "nature_uai                       0\n",
      "nature_uai_libe                  0\n",
      "code_departement                 0\n",
      "code_region                      0\n",
      "code_academie                    0\n",
      "code_commune                     0\n",
      "libelle_departement              0\n",
      "libelle_region                   0\n",
      "libelle_academie                 0\n",
      "libelle_commune                  0\n",
      "restauration                     0\n",
      "herbergement                     0\n",
      "ecole_maternelle              5528\n",
      "ecole_elementaire             5528\n",
      "ulis                             0\n",
      "greta                            0\n",
      "dtype: int64\n"
     ]
    }
   ],
   "source": [
    "print(df_closed.isnull().sum())"
   ]
  },
  {
   "cell_type": "code",
   "execution_count": null,
   "metadata": {},
   "outputs": [
    {
     "data": {
      "text/plain": [
       "Index(['numero_uai', 'appellation_officielle', 'denomination_principale',\n",
       "       'patronyme_uai', 'secteur_public_prive_libe', 'date_ouverture',\n",
       "       'date_fermeture', 'adresse_uai', 'lieu_dit_uai', 'boite_postale_uai',\n",
       "       'code_postal_uai', 'localite_acheminement_uai', 'coordonnee_x',\n",
       "       'coordonnee_y', 'epsg', 'latitude', 'longitude', 'position',\n",
       "       'appariement', 'localisation', 'nature_uai', 'nature_uai_libe',\n",
       "       'code_departement', 'code_region', 'code_academie', 'code_commune',\n",
       "       'libelle_departement', 'libelle_region', 'libelle_academie',\n",
       "       'libelle_commune', 'restauration', 'herbergement', 'ecole_maternelle',\n",
       "       'ecole_elementaire', 'ulis', 'greta'],\n",
       "      dtype='object')"
      ]
     },
     "execution_count": 93,
     "metadata": {},
     "output_type": "execute_result"
    }
   ],
   "source": [
    "df_closed.columns"
   ]
  },
  {
   "cell_type": "code",
   "execution_count": 18,
   "metadata": {},
   "outputs": [
    {
     "name": "stdout",
     "output_type": "stream",
     "text": [
      "DataFrame filtre sauvegarde sur: C:\\Users\\Admin\\Desktop\\PrezJedah\\data_cleaned\\etablissements-fermes-filtres.csv\n"
     ]
    }
   ],
   "source": [
    "# Definir les colonnes a garder\n",
    "selected_columns = [\"numero_uai\", \"date_ouverture\", \"date_fermeture\", \"nature_uai\", \"nature_uai_libe\"]\n",
    "# Creer un dataframe avec cette selection puis le sauvegarder\n",
    "df_closed_filtered = df_closed[selected_columns]\n",
    "#df_closed_filtered.to_csv(path4 + \"\\etablissements-fermes-filtres.csv\", index=False)\n",
    "print(\"DataFrame filtre sauvegarde sur:\", path4 + \"\\etablissements-fermes-filtres.csv\")"
   ]
  },
  {
   "cell_type": "code",
   "execution_count": null,
   "metadata": {},
   "outputs": [
    {
     "data": {
      "text/html": [
       "<div>\n",
       "<style scoped>\n",
       "    .dataframe tbody tr th:only-of-type {\n",
       "        vertical-align: middle;\n",
       "    }\n",
       "\n",
       "    .dataframe tbody tr th {\n",
       "        vertical-align: top;\n",
       "    }\n",
       "\n",
       "    .dataframe thead th {\n",
       "        text-align: right;\n",
       "    }\n",
       "</style>\n",
       "<table border=\"1\" class=\"dataframe\">\n",
       "  <thead>\n",
       "    <tr style=\"text-align: right;\">\n",
       "      <th></th>\n",
       "      <th>numero_uai</th>\n",
       "      <th>date_ouverture</th>\n",
       "      <th>date_fermeture</th>\n",
       "      <th>nature_uai</th>\n",
       "      <th>nature_uai_libe</th>\n",
       "    </tr>\n",
       "  </thead>\n",
       "  <tbody>\n",
       "    <tr>\n",
       "      <th>count</th>\n",
       "      <td>42288</td>\n",
       "      <td>42288</td>\n",
       "      <td>42288</td>\n",
       "      <td>42288.000000</td>\n",
       "      <td>42288</td>\n",
       "    </tr>\n",
       "    <tr>\n",
       "      <th>unique</th>\n",
       "      <td>42288</td>\n",
       "      <td>2953</td>\n",
       "      <td>1281</td>\n",
       "      <td>NaN</td>\n",
       "      <td>31</td>\n",
       "    </tr>\n",
       "    <tr>\n",
       "      <th>top</th>\n",
       "      <td>0500359U</td>\n",
       "      <td>1965-05-01</td>\n",
       "      <td>1992-08-31</td>\n",
       "      <td>NaN</td>\n",
       "      <td>ECOLE DE NIVEAU ELEMENTAIRE</td>\n",
       "    </tr>\n",
       "    <tr>\n",
       "      <th>freq</th>\n",
       "      <td>1</td>\n",
       "      <td>1092</td>\n",
       "      <td>1283</td>\n",
       "      <td>NaN</td>\n",
       "      <td>26797</td>\n",
       "    </tr>\n",
       "    <tr>\n",
       "      <th>mean</th>\n",
       "      <td>NaN</td>\n",
       "      <td>NaN</td>\n",
       "      <td>NaN</td>\n",
       "      <td>163.080259</td>\n",
       "      <td>NaN</td>\n",
       "    </tr>\n",
       "    <tr>\n",
       "      <th>std</th>\n",
       "      <td>NaN</td>\n",
       "      <td>NaN</td>\n",
       "      <td>NaN</td>\n",
       "      <td>68.165870</td>\n",
       "      <td>NaN</td>\n",
       "    </tr>\n",
       "    <tr>\n",
       "      <th>min</th>\n",
       "      <td>NaN</td>\n",
       "      <td>NaN</td>\n",
       "      <td>NaN</td>\n",
       "      <td>101.000000</td>\n",
       "      <td>NaN</td>\n",
       "    </tr>\n",
       "    <tr>\n",
       "      <th>25%</th>\n",
       "      <td>NaN</td>\n",
       "      <td>NaN</td>\n",
       "      <td>NaN</td>\n",
       "      <td>151.000000</td>\n",
       "      <td>NaN</td>\n",
       "    </tr>\n",
       "    <tr>\n",
       "      <th>50%</th>\n",
       "      <td>NaN</td>\n",
       "      <td>NaN</td>\n",
       "      <td>NaN</td>\n",
       "      <td>151.000000</td>\n",
       "      <td>NaN</td>\n",
       "    </tr>\n",
       "    <tr>\n",
       "      <th>75%</th>\n",
       "      <td>NaN</td>\n",
       "      <td>NaN</td>\n",
       "      <td>NaN</td>\n",
       "      <td>151.000000</td>\n",
       "      <td>NaN</td>\n",
       "    </tr>\n",
       "    <tr>\n",
       "      <th>max</th>\n",
       "      <td>NaN</td>\n",
       "      <td>NaN</td>\n",
       "      <td>NaN</td>\n",
       "      <td>390.000000</td>\n",
       "      <td>NaN</td>\n",
       "    </tr>\n",
       "  </tbody>\n",
       "</table>\n",
       "</div>"
      ],
      "text/plain": [
       "       numero_uai date_ouverture date_fermeture    nature_uai  \\\n",
       "count       42288          42288          42288  42288.000000   \n",
       "unique      42288           2953           1281           NaN   \n",
       "top      0500359U     1965-05-01     1992-08-31           NaN   \n",
       "freq            1           1092           1283           NaN   \n",
       "mean          NaN            NaN            NaN    163.080259   \n",
       "std           NaN            NaN            NaN     68.165870   \n",
       "min           NaN            NaN            NaN    101.000000   \n",
       "25%           NaN            NaN            NaN    151.000000   \n",
       "50%           NaN            NaN            NaN    151.000000   \n",
       "75%           NaN            NaN            NaN    151.000000   \n",
       "max           NaN            NaN            NaN    390.000000   \n",
       "\n",
       "                    nature_uai_libe  \n",
       "count                         42288  \n",
       "unique                           31  \n",
       "top     ECOLE DE NIVEAU ELEMENTAIRE  \n",
       "freq                          26797  \n",
       "mean                            NaN  \n",
       "std                             NaN  \n",
       "min                             NaN  \n",
       "25%                             NaN  \n",
       "50%                             NaN  \n",
       "75%                             NaN  \n",
       "max                             NaN  "
      ]
     },
     "execution_count": 118,
     "metadata": {},
     "output_type": "execute_result"
    }
   ],
   "source": [
    "df_closed_filtered.describe(include='all')"
   ]
  },
  {
   "cell_type": "code",
   "execution_count": null,
   "metadata": {},
   "outputs": [
    {
     "name": "stdout",
     "output_type": "stream",
     "text": [
      "numero_uai         0\n",
      "date_ouverture     0\n",
      "date_fermeture     0\n",
      "nature_uai         0\n",
      "nature_uai_libe    0\n",
      "dtype: int64\n"
     ]
    }
   ],
   "source": [
    "print(df_closed_filtered.isnull().sum())"
   ]
  },
  {
   "cell_type": "code",
   "execution_count": null,
   "metadata": {},
   "outputs": [
    {
     "data": {
      "image/png": "[encoded data removed]",
      "text/plain": [
       "<Figure size 640x480 with 2 Axes>"
      ]
     },
     "metadata": {},
     "output_type": "display_data"
    }
   ],
   "source": [
    "sns.heatmap(df_closed_filtered.isnull(), cbar=True)\n",
    "plt.show()"
   ]
  },
  {
   "cell_type": "code",
   "execution_count": null,
   "metadata": {},
   "outputs": [],
   "source": [
    "# Sauvegarder uniquement les donnees a utiliser du dataset etablissements fermes df_closed"
   ]
  },
  {
   "cell_type": "code",
   "execution_count": null,
   "metadata": {},
   "outputs": [],
   "source": [
    "# Sauvegarder uniquement les donnees a utiliser du dataset etablissements fermes df_closed\n",
    "#df.to_csv(path4 + \"\\df_closed_prepared.csv\", index=False)\n",
    "#print(\"DataFrame fusionné sauvegarde sur:\", path4 + \"\\df_closed_prepared.csv\")"
   ]
  },
  {
   "cell_type": "code",
   "execution_count": null,
   "metadata": {},
   "outputs": [],
   "source": [
    "#df_closed_prepared = pd.read_csv(path5)"
   ]
  },
  {
   "cell_type": "code",
   "execution_count": 19,
   "metadata": {},
   "outputs": [
    {
     "name": "stderr",
     "output_type": "stream",
     "text": [
      "C:\\Users\\Admin\\AppData\\Local\\Temp\\ipykernel_19648\\378454339.py:1: SettingWithCopyWarning: \n",
      "A value is trying to be set on a copy of a slice from a DataFrame\n",
      "\n",
      "See the caveats in the documentation: https://pandas.pydata.org/pandas-docs/stable/user_guide/indexing.html#returning-a-view-versus-a-copy\n",
      "  df_closed_filtered.rename(columns={\"numero_uai\": \"uai\"}, inplace=True)\n"
     ]
    }
   ],
   "source": [
    "df_closed_filtered.rename(columns={\"numero_uai\": \"uai\"}, inplace=True)"
   ]
  },
  {
   "cell_type": "code",
   "execution_count": 20,
   "metadata": {},
   "outputs": [],
   "source": [
    "# Placer la cle commune en index\n",
    "common_key = \"uai\"\n",
    "df_closed_filtered=df_closed_filtered.set_index(common_key)"
   ]
  },
  {
   "cell_type": "code",
   "execution_count": 21,
   "metadata": {},
   "outputs": [],
   "source": [
    "# Fusionner ecoles avec etablissements fermes\n",
    "df_joined= df_1622.set_index(common_key).join(\n",
    "    df_closed_filtered, how=\"left\"\n",
    ")"
   ]
  },
  {
   "cell_type": "code",
   "execution_count": 40,
   "metadata": {},
   "outputs": [
    {
     "name": "stdout",
     "output_type": "stream",
     "text": [
      "DataFrame fusionné sauvegarde sur: C:\\Users\\Admin\\Desktop\\PrezJedah\\data_cleaned\\ecoles_OF.csv\n"
     ]
    }
   ],
   "source": [
    "# Sauvegarder le jointure ecoles avec etablissements fermes\n",
    "df_joined.to_csv(path4 + \"\\ecoles_OF.csv\", index=False)\n",
    "print(\"DataFrame fusionné sauvegarde sur:\", path4 + \"\\ecoles_OF.csv\")"
   ]
  },
  {
   "cell_type": "code",
   "execution_count": 32,
   "metadata": {},
   "outputs": [],
   "source": [
    "# Nobre total d'ecoles\n",
    "total_ecoles=len(df_1622)"
   ]
  },
  {
   "cell_type": "code",
   "execution_count": 27,
   "metadata": {},
   "outputs": [
    {
     "name": "stdout",
     "output_type": "stream",
     "text": [
      "2781\n",
      "          rentree_scolaire                         nom_de_l_etablissement  \\\n",
      "uai                                                                         \n",
      "0351383N              2019  ECOLE PRIMAIRE PRIVEE STE CATHERINE DE SIENNE   \n",
      "0370429R              2019                              ECOLE ELEMENTAIRE   \n",
      "0390900S              2019                        ECOLE PRIMAIRE VOLTAIRE   \n",
      "0400664E              2019                         ECOLE PRIMAIRE CARBOUE   \n",
      "0430858Z              2019                              ECOLE ELEMENTAIRE   \n",
      "...                    ...                                            ...   \n",
      "0781994U              2022               ECOLE ELEMENTAIRE GERARD PHILIPE   \n",
      "0910135C              2022                              ECOLE ELEMENTAIRE   \n",
      "0912271Z              2022              ECOLE PRIMAIRE LES QUATRE SAISONS   \n",
      "0930164Y              2022                  ECOLE ELEMENTAIRE JEAN LOLIVE   \n",
      "0671106N              2022                                 ECOLE PRIMAIRE   \n",
      "\n",
      "                     secteur    ips  effectifs date_ouverture date_fermeture  \\\n",
      "uai                                                                            \n",
      "0351383N  privé sous contrat  133.7        NaN     1971-03-18     2023-08-31   \n",
      "0370429R              public   98.0        NaN     1966-09-30     2023-09-01   \n",
      "0390900S              public   94.4        NaN     1971-06-14     2022-08-31   \n",
      "0400664E              public  102.3        NaN     1968-09-23     2021-08-31   \n",
      "0430858Z              public   87.8        NaN     1977-05-09     2022-08-31   \n",
      "...                      ...    ...        ...            ...            ...   \n",
      "0781994U              public   94.4       78.0     1993-06-30     2023-08-31   \n",
      "0910135C              public  109.4       71.0     1965-05-01     2023-08-31   \n",
      "0912271Z              public  107.1      203.0     2007-07-10     2023-08-31   \n",
      "0930164Y              public   88.6      214.0     1965-05-01     2023-09-01   \n",
      "0671106N              public  111.8       74.0     1965-09-08     2023-08-31   \n",
      "\n",
      "          nature_uai              nature_uai_libe  \n",
      "uai                                                \n",
      "0351383N       151.0  ECOLE DE NIVEAU ELEMENTAIRE  \n",
      "0370429R       151.0  ECOLE DE NIVEAU ELEMENTAIRE  \n",
      "0390900S       151.0  ECOLE DE NIVEAU ELEMENTAIRE  \n",
      "0400664E       151.0  ECOLE DE NIVEAU ELEMENTAIRE  \n",
      "0430858Z       151.0  ECOLE DE NIVEAU ELEMENTAIRE  \n",
      "...              ...                          ...  \n",
      "0781994U       151.0  ECOLE DE NIVEAU ELEMENTAIRE  \n",
      "0910135C       151.0  ECOLE DE NIVEAU ELEMENTAIRE  \n",
      "0912271Z       151.0  ECOLE DE NIVEAU ELEMENTAIRE  \n",
      "0930164Y       151.0  ECOLE DE NIVEAU ELEMENTAIRE  \n",
      "0671106N       151.0  ECOLE DE NIVEAU ELEMENTAIRE  \n",
      "\n",
      "[2781 rows x 9 columns]\n"
     ]
    }
   ],
   "source": [
    "# Identifier les ecoles fermees\n",
    "df_ecoles_fermees= df_joined[df_joined['date_fermeture'].notnull()]\n",
    "total_ecoles_fermees=len(df_ecoles_fermees)\n",
    "print(total_ecoles_fermees)\n",
    "print(df_ecoles_fermees)"
   ]
  },
  {
   "cell_type": "code",
   "execution_count": 39,
   "metadata": {},
   "outputs": [
    {
     "name": "stdout",
     "output_type": "stream",
     "text": [
      "Le taux de fermetures est de : 1.15 %\n"
     ]
    }
   ],
   "source": [
    "# Taux de fermeture des ecoles\n",
    "fermeture_rate=round(((total_ecoles_fermees/total_ecoles)*100),2)\n",
    "print(\"Le taux de fermetures est de :\", fermeture_rate, \"%\")"
   ]
  },
  {
   "cell_type": "code",
   "execution_count": null,
   "metadata": {},
   "outputs": [],
   "source": [
    "# df_1622_effectifs[\"Taux de fermeture\"] = round(.Admis / .Inscrits, 3)"
   ]
  },
  {
   "cell_type": "markdown",
   "metadata": {},
   "source": [
    "## Geolocalisation des etablissements"
   ]
  },
  {
   "cell_type": "code",
   "execution_count": null,
   "metadata": {},
   "outputs": [],
   "source": [
    "df_geo = pd.read_csv(path3, sep=\";\")"
   ]
  },
  {
   "cell_type": "code",
   "execution_count": null,
   "metadata": {},
   "outputs": [
    {
     "name": "stdout",
     "output_type": "stream",
     "text": [
      "<class 'pandas.core.frame.DataFrame'>\n",
      "RangeIndex: 64857 entries, 0 to 64856\n",
      "Data columns (total 35 columns):\n",
      " #   Column                              Non-Null Count  Dtype  \n",
      "---  ------                              --------------  -----  \n",
      " 0   numero_uai                          64857 non-null  object \n",
      " 1   appellation_officielle              64856 non-null  object \n",
      " 2   denomination_principale             64857 non-null  object \n",
      " 3   patronyme_uai                       54057 non-null  object \n",
      " 4   secteur_public_prive_libe           64857 non-null  object \n",
      " 5   adresse_uai                         61628 non-null  object \n",
      " 6   lieu_dit_uai                        8779 non-null   object \n",
      " 7   boite_postale_uai                   5413 non-null   object \n",
      " 8   code_postal_uai                     64857 non-null  int64  \n",
      " 9   localite_acheminement_uai           64857 non-null  object \n",
      " 10  libelle_commune                     64857 non-null  object \n",
      " 11  coordonnee_x                        64138 non-null  float64\n",
      " 12  coordonnee_y                        64138 non-null  float64\n",
      " 13  epsg                                64145 non-null  object \n",
      " 14  latitude                            64136 non-null  float64\n",
      " 15  longitude                           64136 non-null  float64\n",
      " 16  appariement                         64138 non-null  object \n",
      " 17  localisation                        64138 non-null  object \n",
      " 18  nature_uai                          64857 non-null  int64  \n",
      " 19  nature_uai_libe                     64857 non-null  object \n",
      " 20  etat_etablissement                  64857 non-null  int64  \n",
      " 21  etat_etablissement_libe             64857 non-null  object \n",
      " 22  code_departement                    64857 non-null  object \n",
      " 23  code_region                         64857 non-null  int64  \n",
      " 24  code_academie                       64857 non-null  int64  \n",
      " 25  code_commune                        64857 non-null  object \n",
      " 26  libelle_departement                 64857 non-null  object \n",
      " 27  libelle_region                      64857 non-null  object \n",
      " 28  libelle_academie                    64857 non-null  object \n",
      " 29  position                            64136 non-null  object \n",
      " 30  secteur_prive_code_type_contrat     64853 non-null  float64\n",
      " 31  secteur_prive_libelle_type_contrat  64854 non-null  object \n",
      " 32  code_ministere                      64857 non-null  int64  \n",
      " 33  libelle_ministere                   64857 non-null  object \n",
      " 34  date_ouverture                      64857 non-null  object \n",
      "dtypes: float64(5), int64(6), object(24)\n",
      "memory usage: 17.3+ MB\n",
      "None\n"
     ]
    }
   ],
   "source": [
    "print(df_geo.info())"
   ]
  },
  {
   "cell_type": "code",
   "execution_count": null,
   "metadata": {},
   "outputs": [
    {
     "data": {
      "text/plain": [
       "Index(['numero_uai', 'appellation_officielle', 'denomination_principale',\n",
       "       'patronyme_uai', 'secteur_public_prive_libe', 'adresse_uai',\n",
       "       'lieu_dit_uai', 'boite_postale_uai', 'code_postal_uai',\n",
       "       'localite_acheminement_uai', 'libelle_commune', 'coordonnee_x',\n",
       "       'coordonnee_y', 'epsg', 'latitude', 'longitude', 'appariement',\n",
       "       'localisation', 'nature_uai', 'nature_uai_libe', 'etat_etablissement',\n",
       "       'etat_etablissement_libe', 'code_departement', 'code_region',\n",
       "       'code_academie', 'code_commune', 'libelle_departement',\n",
       "       'libelle_region', 'libelle_academie', 'position',\n",
       "       'secteur_prive_code_type_contrat', 'secteur_prive_libelle_type_contrat',\n",
       "       'code_ministere', 'libelle_ministere', 'date_ouverture'],\n",
       "      dtype='object')"
      ]
     },
     "execution_count": 113,
     "metadata": {},
     "output_type": "execute_result"
    }
   ],
   "source": [
    "df_geo.columns"
   ]
  },
  {
   "cell_type": "code",
   "execution_count": null,
   "metadata": {},
   "outputs": [
    {
     "data": {
      "text/html": [
       "<div>\n",
       "<style scoped>\n",
       "    .dataframe tbody tr th:only-of-type {\n",
       "        vertical-align: middle;\n",
       "    }\n",
       "\n",
       "    .dataframe tbody tr th {\n",
       "        vertical-align: top;\n",
       "    }\n",
       "\n",
       "    .dataframe thead th {\n",
       "        text-align: right;\n",
       "    }\n",
       "</style>\n",
       "<table border=\"1\" class=\"dataframe\">\n",
       "  <thead>\n",
       "    <tr style=\"text-align: right;\">\n",
       "      <th></th>\n",
       "      <th>numero_uai</th>\n",
       "      <th>appellation_officielle</th>\n",
       "      <th>denomination_principale</th>\n",
       "      <th>patronyme_uai</th>\n",
       "      <th>secteur_public_prive_libe</th>\n",
       "      <th>adresse_uai</th>\n",
       "      <th>lieu_dit_uai</th>\n",
       "      <th>boite_postale_uai</th>\n",
       "      <th>code_postal_uai</th>\n",
       "      <th>localite_acheminement_uai</th>\n",
       "      <th>...</th>\n",
       "      <th>code_commune</th>\n",
       "      <th>libelle_departement</th>\n",
       "      <th>libelle_region</th>\n",
       "      <th>libelle_academie</th>\n",
       "      <th>position</th>\n",
       "      <th>secteur_prive_code_type_contrat</th>\n",
       "      <th>secteur_prive_libelle_type_contrat</th>\n",
       "      <th>code_ministere</th>\n",
       "      <th>libelle_ministere</th>\n",
       "      <th>date_ouverture</th>\n",
       "    </tr>\n",
       "  </thead>\n",
       "  <tbody>\n",
       "    <tr>\n",
       "      <th>0</th>\n",
       "      <td>0341298B</td>\n",
       "      <td>Ecole maternelle Arc en Ciel</td>\n",
       "      <td>ECOLE MATERNELLE PUBLIQUE</td>\n",
       "      <td>ARC EN CIEL</td>\n",
       "      <td>Public</td>\n",
       "      <td>149 rue des Quatre Vents</td>\n",
       "      <td>NaN</td>\n",
       "      <td>NaN</td>\n",
       "      <td>34400</td>\n",
       "      <td>LUNEL</td>\n",
       "      <td>...</td>\n",
       "      <td>34145</td>\n",
       "      <td>Hérault</td>\n",
       "      <td>Occitanie</td>\n",
       "      <td>Montpellier</td>\n",
       "      <td>43.671648379152025, 4.138319556191889</td>\n",
       "      <td>99.0</td>\n",
       "      <td>SANS OBJET</td>\n",
       "      <td>6</td>\n",
       "      <td>MINISTERE DE L'EDUCATION NATIONALE</td>\n",
       "      <td>1972-06-12</td>\n",
       "    </tr>\n",
       "    <tr>\n",
       "      <th>1</th>\n",
       "      <td>0341307L</td>\n",
       "      <td>Ecole primaire Jean Jaurès</td>\n",
       "      <td>ECOLE PRIMAIRE PUBLIQUE</td>\n",
       "      <td>JEAN JAURES</td>\n",
       "      <td>Public</td>\n",
       "      <td>1 place DU 14 JUILLET</td>\n",
       "      <td>NaN</td>\n",
       "      <td>NaN</td>\n",
       "      <td>34420</td>\n",
       "      <td>PORTIRAGNES</td>\n",
       "      <td>...</td>\n",
       "      <td>34209</td>\n",
       "      <td>Hérault</td>\n",
       "      <td>Occitanie</td>\n",
       "      <td>Montpellier</td>\n",
       "      <td>43.3039891375926, 3.33216003205677</td>\n",
       "      <td>99.0</td>\n",
       "      <td>SANS OBJET</td>\n",
       "      <td>6</td>\n",
       "      <td>MINISTERE DE L'EDUCATION NATIONALE</td>\n",
       "      <td>1972-06-12</td>\n",
       "    </tr>\n",
       "    <tr>\n",
       "      <th>2</th>\n",
       "      <td>0341321B</td>\n",
       "      <td>Collège Katia et Maurice Krafft</td>\n",
       "      <td>COLLEGE</td>\n",
       "      <td>KATIA ET MAURICE KRAFFT</td>\n",
       "      <td>Public</td>\n",
       "      <td>BOULEVARD YVES DU MANOIR</td>\n",
       "      <td>NaN</td>\n",
       "      <td>3013</td>\n",
       "      <td>34513</td>\n",
       "      <td>BEZIERS CEDEX</td>\n",
       "      <td>...</td>\n",
       "      <td>34032</td>\n",
       "      <td>Hérault</td>\n",
       "      <td>Occitanie</td>\n",
       "      <td>Montpellier</td>\n",
       "      <td>43.336826651792556, 3.2495802249959187</td>\n",
       "      <td>99.0</td>\n",
       "      <td>SANS OBJET</td>\n",
       "      <td>6</td>\n",
       "      <td>MINISTERE DE L'EDUCATION NATIONALE</td>\n",
       "      <td>1974-04-06</td>\n",
       "    </tr>\n",
       "    <tr>\n",
       "      <th>3</th>\n",
       "      <td>0341342Z</td>\n",
       "      <td>Ecole maternelle les Garrigues</td>\n",
       "      <td>ECOLE MATERNELLE PUBLIQUE</td>\n",
       "      <td>LES GARRIGUES</td>\n",
       "      <td>Public</td>\n",
       "      <td>1008 allées de l'Europe</td>\n",
       "      <td>NaN</td>\n",
       "      <td>NaN</td>\n",
       "      <td>34990</td>\n",
       "      <td>JUVIGNAC</td>\n",
       "      <td>...</td>\n",
       "      <td>34123</td>\n",
       "      <td>Hérault</td>\n",
       "      <td>Occitanie</td>\n",
       "      <td>Montpellier</td>\n",
       "      <td>43.61440482767392, 3.8050099468317837</td>\n",
       "      <td>99.0</td>\n",
       "      <td>SANS OBJET</td>\n",
       "      <td>6</td>\n",
       "      <td>MINISTERE DE L'EDUCATION NATIONALE</td>\n",
       "      <td>1973-06-15</td>\n",
       "    </tr>\n",
       "    <tr>\n",
       "      <th>4</th>\n",
       "      <td>0341344B</td>\n",
       "      <td>Ecole maternelle André Malraux</td>\n",
       "      <td>ECOLE MATERNELLE PUBLIQUE</td>\n",
       "      <td>ANDRE MALRAUX</td>\n",
       "      <td>Public</td>\n",
       "      <td>Rue André Malraux</td>\n",
       "      <td>NaN</td>\n",
       "      <td>NaN</td>\n",
       "      <td>34280</td>\n",
       "      <td>LA GRANDE MOTTE</td>\n",
       "      <td>...</td>\n",
       "      <td>34344</td>\n",
       "      <td>Hérault</td>\n",
       "      <td>Occitanie</td>\n",
       "      <td>Montpellier</td>\n",
       "      <td>43.562660400295485, 4.090050326991836</td>\n",
       "      <td>99.0</td>\n",
       "      <td>SANS OBJET</td>\n",
       "      <td>6</td>\n",
       "      <td>MINISTERE DE L'EDUCATION NATIONALE</td>\n",
       "      <td>1973-06-15</td>\n",
       "    </tr>\n",
       "  </tbody>\n",
       "</table>\n",
       "<p>5 rows × 35 columns</p>\n",
       "</div>"
      ],
      "text/plain": [
       "  numero_uai           appellation_officielle    denomination_principale  \\\n",
       "0   0341298B     Ecole maternelle Arc en Ciel  ECOLE MATERNELLE PUBLIQUE   \n",
       "1   0341307L       Ecole primaire Jean Jaurès    ECOLE PRIMAIRE PUBLIQUE   \n",
       "2   0341321B  Collège Katia et Maurice Krafft                    COLLEGE   \n",
       "3   0341342Z   Ecole maternelle les Garrigues  ECOLE MATERNELLE PUBLIQUE   \n",
       "4   0341344B   Ecole maternelle André Malraux  ECOLE MATERNELLE PUBLIQUE   \n",
       "\n",
       "             patronyme_uai secteur_public_prive_libe  \\\n",
       "0              ARC EN CIEL                    Public   \n",
       "1              JEAN JAURES                    Public   \n",
       "2  KATIA ET MAURICE KRAFFT                    Public   \n",
       "3            LES GARRIGUES                    Public   \n",
       "4            ANDRE MALRAUX                    Public   \n",
       "\n",
       "                adresse_uai lieu_dit_uai boite_postale_uai  code_postal_uai  \\\n",
       "0  149 rue des Quatre Vents          NaN               NaN            34400   \n",
       "1     1 place DU 14 JUILLET          NaN               NaN            34420   \n",
       "2  BOULEVARD YVES DU MANOIR          NaN              3013            34513   \n",
       "3   1008 allées de l'Europe          NaN               NaN            34990   \n",
       "4         Rue André Malraux          NaN               NaN            34280   \n",
       "\n",
       "  localite_acheminement_uai  ... code_commune  libelle_departement  \\\n",
       "0                     LUNEL  ...        34145              Hérault   \n",
       "1               PORTIRAGNES  ...        34209              Hérault   \n",
       "2             BEZIERS CEDEX  ...        34032              Hérault   \n",
       "3                  JUVIGNAC  ...        34123              Hérault   \n",
       "4           LA GRANDE MOTTE  ...        34344              Hérault   \n",
       "\n",
       "   libelle_region libelle_academie                                position  \\\n",
       "0       Occitanie      Montpellier   43.671648379152025, 4.138319556191889   \n",
       "1       Occitanie      Montpellier      43.3039891375926, 3.33216003205677   \n",
       "2       Occitanie      Montpellier  43.336826651792556, 3.2495802249959187   \n",
       "3       Occitanie      Montpellier   43.61440482767392, 3.8050099468317837   \n",
       "4       Occitanie      Montpellier   43.562660400295485, 4.090050326991836   \n",
       "\n",
       "   secteur_prive_code_type_contrat secteur_prive_libelle_type_contrat  \\\n",
       "0                             99.0                         SANS OBJET   \n",
       "1                             99.0                         SANS OBJET   \n",
       "2                             99.0                         SANS OBJET   \n",
       "3                             99.0                         SANS OBJET   \n",
       "4                             99.0                         SANS OBJET   \n",
       "\n",
       "  code_ministere                   libelle_ministere date_ouverture  \n",
       "0              6  MINISTERE DE L'EDUCATION NATIONALE     1972-06-12  \n",
       "1              6  MINISTERE DE L'EDUCATION NATIONALE     1972-06-12  \n",
       "2              6  MINISTERE DE L'EDUCATION NATIONALE     1974-04-06  \n",
       "3              6  MINISTERE DE L'EDUCATION NATIONALE     1973-06-15  \n",
       "4              6  MINISTERE DE L'EDUCATION NATIONALE     1973-06-15  \n",
       "\n",
       "[5 rows x 35 columns]"
      ]
     },
     "execution_count": 53,
     "metadata": {},
     "output_type": "execute_result"
    }
   ],
   "source": [
    "df_geo.head()"
   ]
  },
  {
   "cell_type": "code",
   "execution_count": null,
   "metadata": {},
   "outputs": [
    {
     "name": "stdout",
     "output_type": "stream",
     "text": [
      "<class 'pandas.core.frame.DataFrame'>\n",
      "RangeIndex: 64857 entries, 0 to 64856\n",
      "Data columns (total 35 columns):\n",
      " #   Column                              Non-Null Count  Dtype  \n",
      "---  ------                              --------------  -----  \n",
      " 0   numero_uai                          64857 non-null  object \n",
      " 1   appellation_officielle              64856 non-null  object \n",
      " 2   denomination_principale             64857 non-null  object \n",
      " 3   patronyme_uai                       54057 non-null  object \n",
      " 4   secteur_public_prive_libe           64857 non-null  object \n",
      " 5   adresse_uai                         61628 non-null  object \n",
      " 6   lieu_dit_uai                        8779 non-null   object \n",
      " 7   boite_postale_uai                   5413 non-null   object \n",
      " 8   code_postal_uai                     64857 non-null  int64  \n",
      " 9   localite_acheminement_uai           64857 non-null  object \n",
      " 10  libelle_commune                     64857 non-null  object \n",
      " 11  coordonnee_x                        64138 non-null  float64\n",
      " 12  coordonnee_y                        64138 non-null  float64\n",
      " 13  epsg                                64145 non-null  object \n",
      " 14  latitude                            64136 non-null  float64\n",
      " 15  longitude                           64136 non-null  float64\n",
      " 16  appariement                         64138 non-null  object \n",
      " 17  localisation                        64138 non-null  object \n",
      " 18  nature_uai                          64857 non-null  int64  \n",
      " 19  nature_uai_libe                     64857 non-null  object \n",
      " 20  etat_etablissement                  64857 non-null  int64  \n",
      " 21  etat_etablissement_libe             64857 non-null  object \n",
      " 22  code_departement                    64857 non-null  object \n",
      " 23  code_region                         64857 non-null  int64  \n",
      " 24  code_academie                       64857 non-null  int64  \n",
      " 25  code_commune                        64857 non-null  object \n",
      " 26  libelle_departement                 64857 non-null  object \n",
      " 27  libelle_region                      64857 non-null  object \n",
      " 28  libelle_academie                    64857 non-null  object \n",
      " 29  position                            64136 non-null  object \n",
      " 30  secteur_prive_code_type_contrat     64853 non-null  float64\n",
      " 31  secteur_prive_libelle_type_contrat  64854 non-null  object \n",
      " 32  code_ministere                      64857 non-null  int64  \n",
      " 33  libelle_ministere                   64857 non-null  object \n",
      " 34  date_ouverture                      64857 non-null  object \n",
      "dtypes: float64(5), int64(6), object(24)\n",
      "memory usage: 17.3+ MB\n"
     ]
    }
   ],
   "source": [
    "df_geo.info()"
   ]
  },
  {
   "cell_type": "code",
   "execution_count": null,
   "metadata": {},
   "outputs": [
    {
     "data": {
      "text/html": [
       "<div>\n",
       "<style scoped>\n",
       "    .dataframe tbody tr th:only-of-type {\n",
       "        vertical-align: middle;\n",
       "    }\n",
       "\n",
       "    .dataframe tbody tr th {\n",
       "        vertical-align: top;\n",
       "    }\n",
       "\n",
       "    .dataframe thead th {\n",
       "        text-align: right;\n",
       "    }\n",
       "</style>\n",
       "<table border=\"1\" class=\"dataframe\">\n",
       "  <thead>\n",
       "    <tr style=\"text-align: right;\">\n",
       "      <th></th>\n",
       "      <th>code_postal_uai</th>\n",
       "      <th>coordonnee_x</th>\n",
       "      <th>coordonnee_y</th>\n",
       "      <th>latitude</th>\n",
       "      <th>longitude</th>\n",
       "      <th>nature_uai</th>\n",
       "      <th>etat_etablissement</th>\n",
       "      <th>code_region</th>\n",
       "      <th>code_academie</th>\n",
       "      <th>secteur_prive_code_type_contrat</th>\n",
       "      <th>code_ministere</th>\n",
       "    </tr>\n",
       "  </thead>\n",
       "  <tbody>\n",
       "    <tr>\n",
       "      <th>count</th>\n",
       "      <td>64857.000000</td>\n",
       "      <td>6.413800e+04</td>\n",
       "      <td>6.413800e+04</td>\n",
       "      <td>64136.000000</td>\n",
       "      <td>64136.000000</td>\n",
       "      <td>64857.000000</td>\n",
       "      <td>64857.000000</td>\n",
       "      <td>64857.000000</td>\n",
       "      <td>64857.000000</td>\n",
       "      <td>64853.000000</td>\n",
       "      <td>64857.000000</td>\n",
       "    </tr>\n",
       "    <tr>\n",
       "      <th>mean</th>\n",
       "      <td>54584.376860</td>\n",
       "      <td>6.668896e+05</td>\n",
       "      <td>6.594922e+06</td>\n",
       "      <td>45.373680</td>\n",
       "      <td>2.375716</td>\n",
       "      <td>184.512003</td>\n",
       "      <td>1.007817</td>\n",
       "      <td>48.650261</td>\n",
       "      <td>17.288897</td>\n",
       "      <td>87.025488</td>\n",
       "      <td>5.975099</td>\n",
       "    </tr>\n",
       "    <tr>\n",
       "      <th>std</th>\n",
       "      <td>27629.726114</td>\n",
       "      <td>2.054937e+05</td>\n",
       "      <td>7.521402e+05</td>\n",
       "      <td>9.717190</td>\n",
       "      <td>10.750854</td>\n",
       "      <td>86.950993</td>\n",
       "      <td>0.100498</td>\n",
       "      <td>28.748292</td>\n",
       "      <td>14.624720</td>\n",
       "      <td>27.146119</td>\n",
       "      <td>0.946995</td>\n",
       "    </tr>\n",
       "    <tr>\n",
       "      <th>min</th>\n",
       "      <td>1000.000000</td>\n",
       "      <td>1.234000e+03</td>\n",
       "      <td>1.234000e+03</td>\n",
       "      <td>-21.386913</td>\n",
       "      <td>-63.106640</td>\n",
       "      <td>101.000000</td>\n",
       "      <td>1.000000</td>\n",
       "      <td>0.000000</td>\n",
       "      <td>1.000000</td>\n",
       "      <td>10.000000</td>\n",
       "      <td>0.000000</td>\n",
       "    </tr>\n",
       "    <tr>\n",
       "      <th>25%</th>\n",
       "      <td>31770.000000</td>\n",
       "      <td>5.274608e+05</td>\n",
       "      <td>6.450440e+06</td>\n",
       "      <td>44.916115</td>\n",
       "      <td>0.796308</td>\n",
       "      <td>151.000000</td>\n",
       "      <td>1.000000</td>\n",
       "      <td>27.000000</td>\n",
       "      <td>9.000000</td>\n",
       "      <td>99.000000</td>\n",
       "      <td>6.000000</td>\n",
       "    </tr>\n",
       "    <tr>\n",
       "      <th>50%</th>\n",
       "      <td>59112.000000</td>\n",
       "      <td>6.588342e+05</td>\n",
       "      <td>6.723670e+06</td>\n",
       "      <td>47.411277</td>\n",
       "      <td>2.465865</td>\n",
       "      <td>151.000000</td>\n",
       "      <td>1.000000</td>\n",
       "      <td>44.000000</td>\n",
       "      <td>14.000000</td>\n",
       "      <td>99.000000</td>\n",
       "      <td>6.000000</td>\n",
       "    </tr>\n",
       "    <tr>\n",
       "      <th>75%</th>\n",
       "      <td>77185.000000</td>\n",
       "      <td>8.324052e+05</td>\n",
       "      <td>6.865906e+06</td>\n",
       "      <td>48.857868</td>\n",
       "      <td>4.822663</td>\n",
       "      <td>151.000000</td>\n",
       "      <td>1.000000</td>\n",
       "      <td>76.000000</td>\n",
       "      <td>23.000000</td>\n",
       "      <td>99.000000</td>\n",
       "      <td>6.000000</td>\n",
       "    </tr>\n",
       "    <tr>\n",
       "      <th>max</th>\n",
       "      <td>98890.000000</td>\n",
       "      <td>1.240441e+06</td>\n",
       "      <td>8.598299e+06</td>\n",
       "      <td>51.071190</td>\n",
       "      <td>55.825493</td>\n",
       "      <td>390.000000</td>\n",
       "      <td>3.000000</td>\n",
       "      <td>94.000000</td>\n",
       "      <td>70.000000</td>\n",
       "      <td>99.000000</td>\n",
       "      <td>80.000000</td>\n",
       "    </tr>\n",
       "  </tbody>\n",
       "</table>\n",
       "</div>"
      ],
      "text/plain": [
       "       code_postal_uai  coordonnee_x  coordonnee_y      latitude  \\\n",
       "count     64857.000000  6.413800e+04  6.413800e+04  64136.000000   \n",
       "mean      54584.376860  6.668896e+05  6.594922e+06     45.373680   \n",
       "std       27629.726114  2.054937e+05  7.521402e+05      9.717190   \n",
       "min        1000.000000  1.234000e+03  1.234000e+03    -21.386913   \n",
       "25%       31770.000000  5.274608e+05  6.450440e+06     44.916115   \n",
       "50%       59112.000000  6.588342e+05  6.723670e+06     47.411277   \n",
       "75%       77185.000000  8.324052e+05  6.865906e+06     48.857868   \n",
       "max       98890.000000  1.240441e+06  8.598299e+06     51.071190   \n",
       "\n",
       "          longitude    nature_uai  etat_etablissement   code_region  \\\n",
       "count  64136.000000  64857.000000        64857.000000  64857.000000   \n",
       "mean       2.375716    184.512003            1.007817     48.650261   \n",
       "std       10.750854     86.950993            0.100498     28.748292   \n",
       "min      -63.106640    101.000000            1.000000      0.000000   \n",
       "25%        0.796308    151.000000            1.000000     27.000000   \n",
       "50%        2.465865    151.000000            1.000000     44.000000   \n",
       "75%        4.822663    151.000000            1.000000     76.000000   \n",
       "max       55.825493    390.000000            3.000000     94.000000   \n",
       "\n",
       "       code_academie  secteur_prive_code_type_contrat  code_ministere  \n",
       "count   64857.000000                     64853.000000    64857.000000  \n",
       "mean       17.288897                        87.025488        5.975099  \n",
       "std        14.624720                        27.146119        0.946995  \n",
       "min         1.000000                        10.000000        0.000000  \n",
       "25%         9.000000                        99.000000        6.000000  \n",
       "50%        14.000000                        99.000000        6.000000  \n",
       "75%        23.000000                        99.000000        6.000000  \n",
       "max        70.000000                        99.000000       80.000000  "
      ]
     },
     "execution_count": 55,
     "metadata": {},
     "output_type": "execute_result"
    }
   ],
   "source": [
    "df_geo.describe()"
   ]
  },
  {
   "cell_type": "code",
   "execution_count": null,
   "metadata": {},
   "outputs": [
    {
     "name": "stdout",
     "output_type": "stream",
     "text": [
      "       numero_uai appellation_officielle  denomination_principale  \\\n",
      "count       64857                  64856                    64857   \n",
      "unique      64857                  37800                      603   \n",
      "top      0341298B         Ecole primaire  ECOLE PRIMAIRE PUBLIQUE   \n",
      "freq            1                   5064                    13817   \n",
      "mean          NaN                    NaN                      NaN   \n",
      "std           NaN                    NaN                      NaN   \n",
      "min           NaN                    NaN                      NaN   \n",
      "25%           NaN                    NaN                      NaN   \n",
      "50%           NaN                    NaN                      NaN   \n",
      "75%           NaN                    NaN                      NaN   \n",
      "max           NaN                    NaN                      NaN   \n",
      "\n",
      "       patronyme_uai secteur_public_prive_libe     adresse_uai lieu_dit_uai  \\\n",
      "count          54057                     64857           61628         8779   \n",
      "unique         28262                         2           46677         4407   \n",
      "top      JULES FERRY                    Public  Rue des Ecoles     LE BOURG   \n",
      "freq             488                     54008             423         1518   \n",
      "mean             NaN                       NaN             NaN          NaN   \n",
      "std              NaN                       NaN             NaN          NaN   \n",
      "min              NaN                       NaN             NaN          NaN   \n",
      "25%              NaN                       NaN             NaN          NaN   \n",
      "50%              NaN                       NaN             NaN          NaN   \n",
      "75%              NaN                       NaN             NaN          NaN   \n",
      "max              NaN                       NaN             NaN          NaN   \n",
      "\n",
      "       boite_postale_uai  code_postal_uai localite_acheminement_uai  ...  \\\n",
      "count               5413     64857.000000                     64857  ...   \n",
      "unique              1843              NaN                     21587  ...   \n",
      "top                   14              NaN                     PARIS  ...   \n",
      "freq                  41              NaN                      1323  ...   \n",
      "mean                 NaN     54584.376860                       NaN  ...   \n",
      "std                  NaN     27629.726114                       NaN  ...   \n",
      "min                  NaN      1000.000000                       NaN  ...   \n",
      "25%                  NaN     31770.000000                       NaN  ...   \n",
      "50%                  NaN     59112.000000                       NaN  ...   \n",
      "75%                  NaN     77185.000000                       NaN  ...   \n",
      "max                  NaN     98890.000000                       NaN  ...   \n",
      "\n",
      "       code_commune  libelle_departement  libelle_region libelle_academie  \\\n",
      "count         64857                64857           64857            64857   \n",
      "unique        21593                  107              19               34   \n",
      "top           31555                 Nord   Ile-de-France       Versailles   \n",
      "freq            337                 2387            9493             4516   \n",
      "mean            NaN                  NaN             NaN              NaN   \n",
      "std             NaN                  NaN             NaN              NaN   \n",
      "min             NaN                  NaN             NaN              NaN   \n",
      "25%             NaN                  NaN             NaN              NaN   \n",
      "50%             NaN                  NaN             NaN              NaN   \n",
      "75%             NaN                  NaN             NaN              NaN   \n",
      "max             NaN                  NaN             NaN              NaN   \n",
      "\n",
      "                                     position  \\\n",
      "count                                   64136   \n",
      "unique                                  59728   \n",
      "top     48.98121393079114, 2.3754744706076707   \n",
      "freq                                        6   \n",
      "mean                                      NaN   \n",
      "std                                       NaN   \n",
      "min                                       NaN   \n",
      "25%                                       NaN   \n",
      "50%                                       NaN   \n",
      "75%                                       NaN   \n",
      "max                                       NaN   \n",
      "\n",
      "        secteur_prive_code_type_contrat secteur_prive_libelle_type_contrat  \\\n",
      "count                      64853.000000                              64854   \n",
      "unique                              NaN                                 10   \n",
      "top                                 NaN                         SANS OBJET   \n",
      "freq                                NaN                              54024   \n",
      "mean                          87.025488                                NaN   \n",
      "std                           27.146119                                NaN   \n",
      "min                           10.000000                                NaN   \n",
      "25%                           99.000000                                NaN   \n",
      "50%                           99.000000                                NaN   \n",
      "75%                           99.000000                                NaN   \n",
      "max                           99.000000                                NaN   \n",
      "\n",
      "       code_ministere                   libelle_ministere date_ouverture  \n",
      "count    64857.000000                               64857          64857  \n",
      "unique            NaN                                   6           4003  \n",
      "top               NaN  MINISTERE DE L'EDUCATION NATIONALE     1965-05-01  \n",
      "freq              NaN                               63993           5635  \n",
      "mean         5.975099                                 NaN            NaN  \n",
      "std          0.946995                                 NaN            NaN  \n",
      "min          0.000000                                 NaN            NaN  \n",
      "25%          6.000000                                 NaN            NaN  \n",
      "50%          6.000000                                 NaN            NaN  \n",
      "75%          6.000000                                 NaN            NaN  \n",
      "max         80.000000                                 NaN            NaN  \n",
      "\n",
      "[11 rows x 35 columns]\n"
     ]
    }
   ],
   "source": [
    "print(df_geo.describe(include='all'))"
   ]
  },
  {
   "cell_type": "code",
   "execution_count": null,
   "metadata": {},
   "outputs": [
    {
     "name": "stdout",
     "output_type": "stream",
     "text": [
      "numero_uai                                0\n",
      "appellation_officielle                    1\n",
      "denomination_principale                   0\n",
      "patronyme_uai                         10800\n",
      "secteur_public_prive_libe                 0\n",
      "adresse_uai                            3229\n",
      "lieu_dit_uai                          56078\n",
      "boite_postale_uai                     59444\n",
      "code_postal_uai                           0\n",
      "localite_acheminement_uai                 0\n",
      "libelle_commune                           0\n",
      "coordonnee_x                            719\n",
      "coordonnee_y                            719\n",
      "epsg                                    712\n",
      "latitude                                721\n",
      "longitude                               721\n",
      "appariement                             719\n",
      "localisation                            719\n",
      "nature_uai                                0\n",
      "nature_uai_libe                           0\n",
      "etat_etablissement                        0\n",
      "etat_etablissement_libe                   0\n",
      "code_departement                          0\n",
      "code_region                               0\n",
      "code_academie                             0\n",
      "code_commune                              0\n",
      "libelle_departement                       0\n",
      "libelle_region                            0\n",
      "libelle_academie                          0\n",
      "position                                721\n",
      "secteur_prive_code_type_contrat           4\n",
      "secteur_prive_libelle_type_contrat        3\n",
      "code_ministere                            0\n",
      "libelle_ministere                         0\n",
      "date_ouverture                            0\n",
      "dtype: int64\n"
     ]
    }
   ],
   "source": [
    "print(df_geo.isnull().sum())"
   ]
  },
  {
   "cell_type": "code",
   "execution_count": null,
   "metadata": {},
   "outputs": [
    {
     "data": {
      "image/png": "[encoded data removed]",
      "text/plain": [
       "<Figure size 640x480 with 2 Axes>"
      ]
     },
     "metadata": {},
     "output_type": "display_data"
    }
   ],
   "source": [
    "sns.heatmap(df_geo.isnull(), cbar=True)\n",
    "plt.show()"
   ]
  },
  {
   "cell_type": "code",
   "execution_count": null,
   "metadata": {},
   "outputs": [
    {
     "name": "stdout",
     "output_type": "stream",
     "text": [
      "DataFrame filtre sauvegarde sur: C:\\Users\\Admin\\Desktop\\PrezJedah\\data_cleaned\\geolocalisation-etablissements-filtered.csv\n"
     ]
    }
   ],
   "source": [
    "# Definir les colonnes a garder\n",
    "selected_columns = ['numero_uai', 'appellation_officielle', 'denomination_principale','patronyme_uai', 'secteur_public_prive_libe', 'adresse_uai',\n",
    "       'lieu_dit_uai', 'boite_postale_uai', 'code_postal_uai','localite_acheminement_uai', 'libelle_commune', 'coordonnee_x',\n",
    "       'coordonnee_y', 'epsg', 'latitude', 'longitude', 'appariement', 'localisation', 'nature_uai', 'nature_uai_libe', 'etat_etablissement',\n",
    "       'etat_etablissement_libe', 'code_departement', 'code_region', 'code_academie', 'code_commune', 'libelle_departement',\n",
    "       'libelle_region', 'libelle_academie', 'position', 'secteur_prive_code_type_contrat', 'secteur_prive_libelle_type_contrat', 'code_ministere', 'libelle_ministere', 'date_ouverture']\n",
    "# Creer un dataframe avec cette selection puis le sauvegarder\n",
    "df_geo_filtered = df_geo[selected_columns]\n",
    "df_geo_filtered.to_csv(path4 + \"\\geolocalisation-etablissements-filtered.csv\", index=False)\n",
    "print(\"DataFrame filtre sauvegarde sur:\", path4 + \"\\geolocalisation-etablissements-filtered.csv\")"
   ]
  },
  {
   "cell_type": "code",
   "execution_count": null,
   "metadata": {},
   "outputs": [],
   "source": [
    "#df = df_1622.merge(df_geo, how='left', left_on=\"uai\", right_on='numero_uai' )"
   ]
  }
 ],
 "metadata": {
  "kernelspec": {
   "display_name": "base",
   "language": "python",
   "name": "python3"
  },
  "language_info": {
   "codemirror_mode": {
    "name": "ipython",
    "version": 3
   },
   "file_extension": ".py",
   "mimetype": "text/x-python",
   "name": "python",
   "nbconvert_exporter": "python",
   "pygments_lexer": "ipython3",
   "version": "3.11.5"
  }
 },
 "nbformat": 4,
 "nbformat_minor": 2
}
